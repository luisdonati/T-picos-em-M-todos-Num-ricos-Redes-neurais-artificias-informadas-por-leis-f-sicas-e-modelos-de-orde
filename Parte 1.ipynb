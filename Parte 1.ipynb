{
 "cells": [
  {
   "cell_type": "markdown",
   "metadata": {},
   "source": [
    "#RESOLUÇÃO KURAMOTO-SIVASHINSKI\n"
   ]
  },
  {
   "cell_type": "markdown",
   "metadata": {},
   "source": [
    "A equação de Kuramoto-Sivashinski é dada por\n",
    "u_t + uu_x + au_xx + bu_xxxx = 0"
   ]
  },
  {
   "cell_type": "code",
   "execution_count": 1,
   "metadata": {},
   "outputs": [],
   "source": [
    "import numpy\n",
    "import sympy\n",
    "from matplotlib import pyplot\n",
    "%matplotlib inline"
   ]
  },
  {
   "cell_type": "code",
   "execution_count": 2,
   "metadata": {},
   "outputs": [],
   "source": [
    "# Set the font family and size to use for Matplotlib figures.\n",
    "pyplot.rcParams['font.family'] = 'serif'\n",
    "pyplot.rcParams['font.size'] = 16"
   ]
  },
  {
   "cell_type": "markdown",
   "metadata": {},
   "source": [
    "Agora a fórmula para o cálculo das condições iniciais e de contorno serão colocadas. As condições de contorno são dadas no espaço inicial e final, assim como a derivada em função de x. Foi utilizada linguagem simbólica para diferenciação."
   ]
  },
  {
   "cell_type": "code",
   "execution_count": 3,
   "metadata": {},
   "outputs": [],
   "source": [
    "#set the initial and boundary conditions\n",
    "\n",
    "beta = 5.0;\n",
    "k = 1/(2*numpy.sqrt(19));\n",
    "x0 = -25.0;\n",
    "\n",
    "#set the initial and boundary conditions\n",
    "def u_anal(xis,temp):\n",
    "\n",
    "    u_anal = beta + (15*(numpy.tanh(k*(xis-beta*temp-x0)))**3 - 45*numpy.tanh(k*(xis-beta*temp-x0)))/(19**(3/2));\n",
    "\n",
    "    return u_anal"
   ]
  },
  {
   "cell_type": "code",
   "execution_count": 4,
   "metadata": {},
   "outputs": [],
   "source": [
    "#derivação simbólica para cálculo da condição inicial\n",
    "\n",
    "xisi, ki, betai, x0i, tempi = sympy.symbols('xisi ki betai x0i tempi') #nova função analitica para derivar\n",
    "u_anali = betai + (15*(sympy.tanh(ki*(xisi-betai*tempi-x0i)))**3 - 45*sympy.tanh(ki*(xisi-betai*tempi-x0i)))/(19**(3/2));\n",
    "u_anali\n",
    "\n",
    "du_analidx = u_anali.diff(xisi)\n",
    "du_analidx\n",
    "\n",
    "from sympy.utilities.lambdify import lambdify\n",
    "\n",
    "boundary_du = lambdify((xisi, ki, betai, x0i, tempi), du_analidx)\n",
    "\n",
    "#derivarção simbolica da segunda derivada para condiçao inicial\n",
    "\n",
    "d2u_analidx2 = du_analidx.diff(xisi)\n",
    "\n",
    "d3u_analidx3 = d2u_analidx2.diff(xisi)\n",
    "\n",
    "d4u_analidx4 = d3u_analidx3.diff(xisi)\n",
    "\n",
    "#transformando as derivadas em numeros reais\n",
    "\n",
    "boundary_d2u = lambdify((xisi, ki, betai, x0i, tempi), d2u_analidx2)\n",
    "\n",
    "boundary_d4u = lambdify((xisi, ki, betai, x0i, tempi), d4u_analidx4)"
   ]
  },
  {
   "cell_type": "markdown",
   "metadata": {},
   "source": [
    "Entrada dos parâmetros de integração"
   ]
  },
  {
   "cell_type": "code",
   "execution_count": 5,
   "metadata": {},
   "outputs": [],
   "source": [
    "#integrate kuramoto-sivashinski in time\n",
    "nx = 101\n",
    "a=-50\n",
    "b=50\n",
    "L = b-a + 1\n",
    "dx = L/(nx-1)\n",
    "dt = 0.1\n",
    "nt = 120\n",
    "\n",
    "x = numpy.linspace(a,b,num=nx)"
   ]
  },
  {
   "cell_type": "code",
   "execution_count": 6,
   "metadata": {},
   "outputs": [],
   "source": [
    "t = 0.0\n",
    "u0 = numpy.array([u_anal(xi, t) for xi in x])\n",
    "du0 = numpy.array([boundary_du(xi,k,beta,x0,t) for xi in x])\n",
    "d2u0 = numpy.array([boundary_d2u(xi,k,beta,x0,t) for xi in x])"
   ]
  },
  {
   "cell_type": "code",
   "execution_count": null,
   "metadata": {},
   "outputs": [],
   "source": []
  }
 ],
 "metadata": {
  "kernelspec": {
   "display_name": "Python 3",
   "language": "python",
   "name": "python3"
  },
  "language_info": {
   "codemirror_mode": {
    "name": "ipython",
    "version": 3
   },
   "file_extension": ".py",
   "mimetype": "text/x-python",
   "name": "python",
   "nbconvert_exporter": "python",
   "pygments_lexer": "ipython3",
   "version": "3.8.3"
  }
 },
 "nbformat": 4,
 "nbformat_minor": 4
}
